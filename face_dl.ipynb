{
 "cells": [
  {
   "cell_type": "code",
   "execution_count": 1,
   "id": "c8028de9",
   "metadata": {},
   "outputs": [
    {
     "name": "stdout",
     "output_type": "stream",
     "text": [
      "WARNING:tensorflow:From C:\\Users\\bharg\\anaconda3\\Lib\\site-packages\\keras\\src\\losses.py:2976: The name tf.losses.sparse_softmax_cross_entropy is deprecated. Please use tf.compat.v1.losses.sparse_softmax_cross_entropy instead.\n",
      "\n"
     ]
    }
   ],
   "source": [
    "from keras.utils import to_categorical\n",
    "from keras.preprocessing.image import load_img\n",
    "from keras.models import Sequential\n",
    "from keras.layers import Dense, Conv2D, Dropout, Flatten, MaxPooling2D\n",
    "import os\n",
    "import pandas as pd\n",
    "import numpy as np"
   ]
  },
  {
   "cell_type": "code",
   "execution_count": 2,
   "id": "f0cff9ed",
   "metadata": {},
   "outputs": [],
   "source": [
    "TRAIN_DIR = 'C:\\\\Users\\\\bharg\\\\Downloads\\\\face\\\\train'\n",
    "TEST_DIR = 'C:\\\\Users\\\\bharg\\\\Downloads\\\\face\\\\test'"
   ]
  },
  {
   "cell_type": "code",
   "execution_count": 3,
   "id": "5e57d74d",
   "metadata": {},
   "outputs": [],
   "source": [
    "def createdataframe(dir):\n",
    "    image_paths = []     # Step 1: Initialize empty lists to store image paths and labels\n",
    "    labels = []\n",
    "     # Step 2: Iterate over each label (subdirectory) in the specified directory\n",
    "    for label in os.listdir(dir):\n",
    "        for imagename in os.listdir(os.path.join(dir,label)): # Step 3: Iterate over each image file in the current label's directory\n",
    "            image_paths.append(os.path.join(dir,label,imagename))  # Step 4: Build the full path to the image and append it to image_paths\n",
    "            labels.append(label)  # Step 5: Append the label (subdirectory name) to the labels list\n",
    "        print(label, \"completed\")\n",
    "    return image_paths,labels "
   ]
  },
  {
   "cell_type": "code",
   "execution_count": 4,
   "id": "69562770",
   "metadata": {},
   "outputs": [
    {
     "name": "stdout",
     "output_type": "stream",
     "text": [
      "angry completed\n",
      "disgust completed\n",
      "fear completed\n",
      "happy completed\n",
      "neutral completed\n",
      "sad completed\n",
      "surprise completed\n"
     ]
    }
   ],
   "source": [
    "train = pd.DataFrame()\n",
    "train['image'], train['label'] = createdataframe(TRAIN_DIR)"
   ]
  },
  {
   "cell_type": "code",
   "execution_count": 5,
   "id": "405d1064",
   "metadata": {},
   "outputs": [
    {
     "name": "stdout",
     "output_type": "stream",
     "text": [
      "                                                   image     label\n",
      "0      C:\\Users\\bharg\\Downloads\\face\\train\\angry\\Trai...     angry\n",
      "1      C:\\Users\\bharg\\Downloads\\face\\train\\angry\\Trai...     angry\n",
      "2      C:\\Users\\bharg\\Downloads\\face\\train\\angry\\Trai...     angry\n",
      "3      C:\\Users\\bharg\\Downloads\\face\\train\\angry\\Trai...     angry\n",
      "4      C:\\Users\\bharg\\Downloads\\face\\train\\angry\\Trai...     angry\n",
      "...                                                  ...       ...\n",
      "28704  C:\\Users\\bharg\\Downloads\\face\\train\\surprise\\T...  surprise\n",
      "28705  C:\\Users\\bharg\\Downloads\\face\\train\\surprise\\T...  surprise\n",
      "28706  C:\\Users\\bharg\\Downloads\\face\\train\\surprise\\T...  surprise\n",
      "28707  C:\\Users\\bharg\\Downloads\\face\\train\\surprise\\T...  surprise\n",
      "28708  C:\\Users\\bharg\\Downloads\\face\\train\\surprise\\T...  surprise\n",
      "\n",
      "[28709 rows x 2 columns]\n"
     ]
    }
   ],
   "source": [
    "print(train)"
   ]
  },
  {
   "cell_type": "code",
   "execution_count": 6,
   "id": "abb41ac8",
   "metadata": {},
   "outputs": [
    {
     "name": "stdout",
     "output_type": "stream",
     "text": [
      "angry completed\n",
      "disgust completed\n",
      "fear completed\n",
      "happy completed\n",
      "neutral completed\n",
      "sad completed\n",
      "surprise completed\n"
     ]
    }
   ],
   "source": [
    "test = pd.DataFrame()\n",
    "test['image'], test['label'] = createdataframe(TEST_DIR)"
   ]
  },
  {
   "cell_type": "code",
   "execution_count": 7,
   "id": "e03cac36",
   "metadata": {},
   "outputs": [
    {
     "name": "stdout",
     "output_type": "stream",
     "text": [
      "                                                  image     label\n",
      "0     C:\\Users\\bharg\\Downloads\\face\\test\\angry\\Priva...     angry\n",
      "1     C:\\Users\\bharg\\Downloads\\face\\test\\angry\\Priva...     angry\n",
      "2     C:\\Users\\bharg\\Downloads\\face\\test\\angry\\Priva...     angry\n",
      "3     C:\\Users\\bharg\\Downloads\\face\\test\\angry\\Priva...     angry\n",
      "4     C:\\Users\\bharg\\Downloads\\face\\test\\angry\\Priva...     angry\n",
      "...                                                 ...       ...\n",
      "7173  C:\\Users\\bharg\\Downloads\\face\\test\\surprise\\Pu...  surprise\n",
      "7174  C:\\Users\\bharg\\Downloads\\face\\test\\surprise\\Pu...  surprise\n",
      "7175  C:\\Users\\bharg\\Downloads\\face\\test\\surprise\\Pu...  surprise\n",
      "7176  C:\\Users\\bharg\\Downloads\\face\\test\\surprise\\Pu...  surprise\n",
      "7177  C:\\Users\\bharg\\Downloads\\face\\test\\surprise\\Pu...  surprise\n",
      "\n",
      "[7178 rows x 2 columns]\n",
      "0       C:\\Users\\bharg\\Downloads\\face\\test\\angry\\Priva...\n",
      "1       C:\\Users\\bharg\\Downloads\\face\\test\\angry\\Priva...\n",
      "2       C:\\Users\\bharg\\Downloads\\face\\test\\angry\\Priva...\n",
      "3       C:\\Users\\bharg\\Downloads\\face\\test\\angry\\Priva...\n",
      "4       C:\\Users\\bharg\\Downloads\\face\\test\\angry\\Priva...\n",
      "                              ...                        \n",
      "7173    C:\\Users\\bharg\\Downloads\\face\\test\\surprise\\Pu...\n",
      "7174    C:\\Users\\bharg\\Downloads\\face\\test\\surprise\\Pu...\n",
      "7175    C:\\Users\\bharg\\Downloads\\face\\test\\surprise\\Pu...\n",
      "7176    C:\\Users\\bharg\\Downloads\\face\\test\\surprise\\Pu...\n",
      "7177    C:\\Users\\bharg\\Downloads\\face\\test\\surprise\\Pu...\n",
      "Name: image, Length: 7178, dtype: object\n"
     ]
    }
   ],
   "source": [
    "print(test)\n",
    "print(test['image'])"
   ]
  },
  {
   "cell_type": "code",
   "execution_count": 8,
   "id": "bddd3b3b",
   "metadata": {},
   "outputs": [],
   "source": [
    "from tqdm.notebook import tqdm"
   ]
  },
  {
   "cell_type": "code",
   "execution_count": 9,
   "id": "18c409a2",
   "metadata": {},
   "outputs": [],
   "source": [
    "def extract_features(images):\n",
    "    features = []  # Step 1: Initialize an empty list to store the extracted features\n",
    "    for image in tqdm(images):  # Step 2: Iterate over each image path in the provided list\n",
    "        img = load_img(image,grayscale =  True )  # Step 3: Load the image using keras.preprocessing.image.load_img\n",
    "        img = np.array(img)    # Step 4: Convert the image to a numpy array\n",
    "        features.append(img)   # Step 5: Append the image array to the features list\n",
    "    features = np.array(features)  # Step 6: Convert the list of image arrays to a numpy array\n",
    "    features = features.reshape(len(features),48,48,1)\n",
    "    return features   # Step 8: Return the final array of extracted features"
   ]
  },
  {
   "cell_type": "code",
   "execution_count": 10,
   "id": "bd337431",
   "metadata": {},
   "outputs": [
    {
     "data": {
      "application/vnd.jupyter.widget-view+json": {
       "model_id": "8d8737329c1d4533bec4ff6caa3b2a13",
       "version_major": 2,
       "version_minor": 0
      },
      "text/plain": [
       "  0%|          | 0/28709 [00:00<?, ?it/s]"
      ]
     },
     "metadata": {},
     "output_type": "display_data"
    },
    {
     "name": "stderr",
     "output_type": "stream",
     "text": [
      "C:\\Users\\bharg\\anaconda3\\Lib\\site-packages\\keras\\src\\utils\\image_utils.py:409: UserWarning: grayscale is deprecated. Please use color_mode = \"grayscale\"\n",
      "  warnings.warn(\n"
     ]
    }
   ],
   "source": [
    "train_features = extract_features(train['image']) "
   ]
  },
  {
   "cell_type": "code",
   "execution_count": 11,
   "id": "3c4257ad",
   "metadata": {},
   "outputs": [
    {
     "data": {
      "application/vnd.jupyter.widget-view+json": {
       "model_id": "0d4bbd2393494cc2b07128178fe1e267",
       "version_major": 2,
       "version_minor": 0
      },
      "text/plain": [
       "  0%|          | 0/7178 [00:00<?, ?it/s]"
      ]
     },
     "metadata": {},
     "output_type": "display_data"
    }
   ],
   "source": [
    "test_features = extract_features(test['image'])"
   ]
  },
  {
   "cell_type": "code",
   "execution_count": 12,
   "id": "74d3a8be",
   "metadata": {},
   "outputs": [],
   "source": [
    "x_train = train_features/255.0\n",
    "x_test = test_features/255.0 "
   ]
  },
  {
   "cell_type": "code",
   "execution_count": 13,
   "id": "364f08b3",
   "metadata": {},
   "outputs": [],
   "source": [
    "from sklearn.preprocessing import LabelEncoder"
   ]
  },
  {
   "cell_type": "code",
   "execution_count": 14,
   "id": "6394eeb1",
   "metadata": {},
   "outputs": [
    {
     "data": {
      "text/html": [
       "<style>#sk-container-id-1 {color: black;}#sk-container-id-1 pre{padding: 0;}#sk-container-id-1 div.sk-toggleable {background-color: white;}#sk-container-id-1 label.sk-toggleable__label {cursor: pointer;display: block;width: 100%;margin-bottom: 0;padding: 0.3em;box-sizing: border-box;text-align: center;}#sk-container-id-1 label.sk-toggleable__label-arrow:before {content: \"▸\";float: left;margin-right: 0.25em;color: #696969;}#sk-container-id-1 label.sk-toggleable__label-arrow:hover:before {color: black;}#sk-container-id-1 div.sk-estimator:hover label.sk-toggleable__label-arrow:before {color: black;}#sk-container-id-1 div.sk-toggleable__content {max-height: 0;max-width: 0;overflow: hidden;text-align: left;background-color: #f0f8ff;}#sk-container-id-1 div.sk-toggleable__content pre {margin: 0.2em;color: black;border-radius: 0.25em;background-color: #f0f8ff;}#sk-container-id-1 input.sk-toggleable__control:checked~div.sk-toggleable__content {max-height: 200px;max-width: 100%;overflow: auto;}#sk-container-id-1 input.sk-toggleable__control:checked~label.sk-toggleable__label-arrow:before {content: \"▾\";}#sk-container-id-1 div.sk-estimator input.sk-toggleable__control:checked~label.sk-toggleable__label {background-color: #d4ebff;}#sk-container-id-1 div.sk-label input.sk-toggleable__control:checked~label.sk-toggleable__label {background-color: #d4ebff;}#sk-container-id-1 input.sk-hidden--visually {border: 0;clip: rect(1px 1px 1px 1px);clip: rect(1px, 1px, 1px, 1px);height: 1px;margin: -1px;overflow: hidden;padding: 0;position: absolute;width: 1px;}#sk-container-id-1 div.sk-estimator {font-family: monospace;background-color: #f0f8ff;border: 1px dotted black;border-radius: 0.25em;box-sizing: border-box;margin-bottom: 0.5em;}#sk-container-id-1 div.sk-estimator:hover {background-color: #d4ebff;}#sk-container-id-1 div.sk-parallel-item::after {content: \"\";width: 100%;border-bottom: 1px solid gray;flex-grow: 1;}#sk-container-id-1 div.sk-label:hover label.sk-toggleable__label {background-color: #d4ebff;}#sk-container-id-1 div.sk-serial::before {content: \"\";position: absolute;border-left: 1px solid gray;box-sizing: border-box;top: 0;bottom: 0;left: 50%;z-index: 0;}#sk-container-id-1 div.sk-serial {display: flex;flex-direction: column;align-items: center;background-color: white;padding-right: 0.2em;padding-left: 0.2em;position: relative;}#sk-container-id-1 div.sk-item {position: relative;z-index: 1;}#sk-container-id-1 div.sk-parallel {display: flex;align-items: stretch;justify-content: center;background-color: white;position: relative;}#sk-container-id-1 div.sk-item::before, #sk-container-id-1 div.sk-parallel-item::before {content: \"\";position: absolute;border-left: 1px solid gray;box-sizing: border-box;top: 0;bottom: 0;left: 50%;z-index: -1;}#sk-container-id-1 div.sk-parallel-item {display: flex;flex-direction: column;z-index: 1;position: relative;background-color: white;}#sk-container-id-1 div.sk-parallel-item:first-child::after {align-self: flex-end;width: 50%;}#sk-container-id-1 div.sk-parallel-item:last-child::after {align-self: flex-start;width: 50%;}#sk-container-id-1 div.sk-parallel-item:only-child::after {width: 0;}#sk-container-id-1 div.sk-dashed-wrapped {border: 1px dashed gray;margin: 0 0.4em 0.5em 0.4em;box-sizing: border-box;padding-bottom: 0.4em;background-color: white;}#sk-container-id-1 div.sk-label label {font-family: monospace;font-weight: bold;display: inline-block;line-height: 1.2em;}#sk-container-id-1 div.sk-label-container {text-align: center;}#sk-container-id-1 div.sk-container {/* jupyter's `normalize.less` sets `[hidden] { display: none; }` but bootstrap.min.css set `[hidden] { display: none !important; }` so we also need the `!important` here to be able to override the default hidden behavior on the sphinx rendered scikit-learn.org. See: https://github.com/scikit-learn/scikit-learn/issues/21755 */display: inline-block !important;position: relative;}#sk-container-id-1 div.sk-text-repr-fallback {display: none;}</style><div id=\"sk-container-id-1\" class=\"sk-top-container\"><div class=\"sk-text-repr-fallback\"><pre>LabelEncoder()</pre><b>In a Jupyter environment, please rerun this cell to show the HTML representation or trust the notebook. <br />On GitHub, the HTML representation is unable to render, please try loading this page with nbviewer.org.</b></div><div class=\"sk-container\" hidden><div class=\"sk-item\"><div class=\"sk-estimator sk-toggleable\"><input class=\"sk-toggleable__control sk-hidden--visually\" id=\"sk-estimator-id-1\" type=\"checkbox\" checked><label for=\"sk-estimator-id-1\" class=\"sk-toggleable__label sk-toggleable__label-arrow\">LabelEncoder</label><div class=\"sk-toggleable__content\"><pre>LabelEncoder()</pre></div></div></div></div></div>"
      ],
      "text/plain": [
       "LabelEncoder()"
      ]
     },
     "execution_count": 14,
     "metadata": {},
     "output_type": "execute_result"
    }
   ],
   "source": [
    "le = LabelEncoder()\n",
    "le.fit(train['label'])"
   ]
  },
  {
   "cell_type": "code",
   "execution_count": 15,
   "id": "9f40f7f8",
   "metadata": {},
   "outputs": [],
   "source": [
    "y_train = le.transform(train['label'])\n",
    "y_test = le.transform(test['label'])"
   ]
  },
  {
   "cell_type": "code",
   "execution_count": 16,
   "id": "fbc4c341",
   "metadata": {},
   "outputs": [],
   "source": [
    "y_train = to_categorical(y_train,num_classes = 7)\n",
    "y_test = to_categorical(y_test,num_classes = 7)"
   ]
  },
  {
   "cell_type": "code",
   "execution_count": 17,
   "id": "063c0894",
   "metadata": {},
   "outputs": [
    {
     "name": "stdout",
     "output_type": "stream",
     "text": [
      "WARNING:tensorflow:From C:\\Users\\bharg\\anaconda3\\Lib\\site-packages\\keras\\src\\backend.py:873: The name tf.get_default_graph is deprecated. Please use tf.compat.v1.get_default_graph instead.\n",
      "\n",
      "WARNING:tensorflow:From C:\\Users\\bharg\\anaconda3\\Lib\\site-packages\\keras\\src\\layers\\pooling\\max_pooling2d.py:161: The name tf.nn.max_pool is deprecated. Please use tf.nn.max_pool2d instead.\n",
      "\n"
     ]
    }
   ],
   "source": [
    "model = Sequential()\n",
    "# convolutional layers\n",
    "model.add(Conv2D(128, kernel_size=(3,3), activation='relu', input_shape=(48,48,1)))\n",
    "model.add(MaxPooling2D(pool_size=(2,2)))\n",
    "model.add(Dropout(0.4))\n",
    "\n",
    "model.add(Conv2D(256, kernel_size=(3,3), activation='relu'))\n",
    "model.add(MaxPooling2D(pool_size=(2,2)))\n",
    "model.add(Dropout(0.4))\n",
    "\n",
    "model.add(Conv2D(512, kernel_size=(3,3), activation='relu'))\n",
    "model.add(MaxPooling2D(pool_size=(2,2)))\n",
    "model.add(Dropout(0.4))\n",
    "\n",
    "model.add(Conv2D(512, kernel_size=(3,3), activation='relu'))\n",
    "model.add(MaxPooling2D(pool_size=(2,2)))\n",
    "model.add(Dropout(0.4))\n",
    "\n",
    "model.add(Flatten())\n",
    "# fully connected layers\n",
    "model.add(Dense(512, activation='relu'))\n",
    "model.add(Dropout(0.4))\n",
    "model.add(Dense(256, activation='relu'))\n",
    "model.add(Dropout(0.3))\n",
    "# output layer\n",
    "model.add(Dense(7, activation='softmax'))"
   ]
  },
  {
   "cell_type": "code",
   "execution_count": 18,
   "id": "92a940ab",
   "metadata": {},
   "outputs": [
    {
     "name": "stdout",
     "output_type": "stream",
     "text": [
      "WARNING:tensorflow:From C:\\Users\\bharg\\anaconda3\\Lib\\site-packages\\keras\\src\\optimizers\\__init__.py:309: The name tf.train.Optimizer is deprecated. Please use tf.compat.v1.train.Optimizer instead.\n",
      "\n"
     ]
    }
   ],
   "source": [
    "model.compile(optimizer = 'adam', loss = 'categorical_crossentropy', metrics = 'accuracy' )"
   ]
  },
  {
   "cell_type": "code",
   "execution_count": 19,
   "id": "a942f608",
   "metadata": {},
   "outputs": [
    {
     "name": "stdout",
     "output_type": "stream",
     "text": [
      "Model: \"sequential\"\n",
      "_________________________________________________________________\n",
      " Layer (type)                Output Shape              Param #   \n",
      "=================================================================\n",
      " conv2d (Conv2D)             (None, 46, 46, 128)       1280      \n",
      "                                                                 \n",
      " max_pooling2d (MaxPooling2  (None, 23, 23, 128)       0         \n",
      " D)                                                              \n",
      "                                                                 \n",
      " dropout (Dropout)           (None, 23, 23, 128)       0         \n",
      "                                                                 \n",
      " conv2d_1 (Conv2D)           (None, 21, 21, 256)       295168    \n",
      "                                                                 \n",
      " max_pooling2d_1 (MaxPoolin  (None, 10, 10, 256)       0         \n",
      " g2D)                                                            \n",
      "                                                                 \n",
      " dropout_1 (Dropout)         (None, 10, 10, 256)       0         \n",
      "                                                                 \n",
      " conv2d_2 (Conv2D)           (None, 8, 8, 512)         1180160   \n",
      "                                                                 \n",
      " max_pooling2d_2 (MaxPoolin  (None, 4, 4, 512)         0         \n",
      " g2D)                                                            \n",
      "                                                                 \n",
      " dropout_2 (Dropout)         (None, 4, 4, 512)         0         \n",
      "                                                                 \n",
      " conv2d_3 (Conv2D)           (None, 2, 2, 512)         2359808   \n",
      "                                                                 \n",
      " max_pooling2d_3 (MaxPoolin  (None, 1, 1, 512)         0         \n",
      " g2D)                                                            \n",
      "                                                                 \n",
      " dropout_3 (Dropout)         (None, 1, 1, 512)         0         \n",
      "                                                                 \n",
      " flatten (Flatten)           (None, 512)               0         \n",
      "                                                                 \n",
      " dense (Dense)               (None, 512)               262656    \n",
      "                                                                 \n",
      " dropout_4 (Dropout)         (None, 512)               0         \n",
      "                                                                 \n",
      " dense_1 (Dense)             (None, 256)               131328    \n",
      "                                                                 \n",
      " dropout_5 (Dropout)         (None, 256)               0         \n",
      "                                                                 \n",
      " dense_2 (Dense)             (None, 7)                 1799      \n",
      "                                                                 \n",
      "=================================================================\n",
      "Total params: 4232199 (16.14 MB)\n",
      "Trainable params: 4232199 (16.14 MB)\n",
      "Non-trainable params: 0 (0.00 Byte)\n",
      "_________________________________________________________________\n"
     ]
    }
   ],
   "source": [
    "model.summary()"
   ]
  },
  {
   "cell_type": "code",
   "execution_count": 20,
   "id": "1c454c44",
   "metadata": {},
   "outputs": [
    {
     "name": "stdout",
     "output_type": "stream",
     "text": [
      "Epoch 1/100\n",
      "WARNING:tensorflow:From C:\\Users\\bharg\\anaconda3\\Lib\\site-packages\\keras\\src\\utils\\tf_utils.py:492: The name tf.ragged.RaggedTensorValue is deprecated. Please use tf.compat.v1.ragged.RaggedTensorValue instead.\n",
      "\n",
      "WARNING:tensorflow:From C:\\Users\\bharg\\anaconda3\\Lib\\site-packages\\keras\\src\\engine\\base_layer_utils.py:384: The name tf.executing_eagerly_outside_functions is deprecated. Please use tf.compat.v1.executing_eagerly_outside_functions instead.\n",
      "\n",
      "225/225 [==============================] - 674s 3s/step - loss: 1.8242 - accuracy: 0.2464 - val_loss: 1.8198 - val_accuracy: 0.2471\n",
      "Epoch 2/100\n",
      "225/225 [==============================] - 674s 3s/step - loss: 1.8033 - accuracy: 0.2550 - val_loss: 1.7857 - val_accuracy: 0.2471\n",
      "Epoch 3/100\n",
      "225/225 [==============================] - 683s 3s/step - loss: 1.7348 - accuracy: 0.2833 - val_loss: 1.6333 - val_accuracy: 0.3369\n",
      "Epoch 4/100\n",
      "225/225 [==============================] - 711s 3s/step - loss: 1.6206 - accuracy: 0.3564 - val_loss: 1.5087 - val_accuracy: 0.3944\n",
      "Epoch 5/100\n",
      "225/225 [==============================] - 362s 2s/step - loss: 1.5020 - accuracy: 0.4152 - val_loss: 1.3773 - val_accuracy: 0.4625\n",
      "Epoch 6/100\n",
      "225/225 [==============================] - 377s 2s/step - loss: 1.4385 - accuracy: 0.4436 - val_loss: 1.3276 - val_accuracy: 0.4862\n",
      "Epoch 7/100\n",
      "225/225 [==============================] - 360s 2s/step - loss: 1.3927 - accuracy: 0.4667 - val_loss: 1.2833 - val_accuracy: 0.5060\n",
      "Epoch 8/100\n",
      "225/225 [==============================] - 387s 2s/step - loss: 1.3535 - accuracy: 0.4807 - val_loss: 1.2601 - val_accuracy: 0.5189\n",
      "Epoch 9/100\n",
      "225/225 [==============================] - 401s 2s/step - loss: 1.3203 - accuracy: 0.4987 - val_loss: 1.2077 - val_accuracy: 0.5327\n",
      "Epoch 10/100\n",
      "225/225 [==============================] - 349s 2s/step - loss: 1.2960 - accuracy: 0.5041 - val_loss: 1.1968 - val_accuracy: 0.5371\n",
      "Epoch 11/100\n",
      "225/225 [==============================] - 351s 2s/step - loss: 1.2827 - accuracy: 0.5115 - val_loss: 1.1857 - val_accuracy: 0.5404\n",
      "Epoch 12/100\n",
      "225/225 [==============================] - 348s 2s/step - loss: 1.2545 - accuracy: 0.5190 - val_loss: 1.1540 - val_accuracy: 0.5548\n",
      "Epoch 13/100\n",
      "225/225 [==============================] - 350s 2s/step - loss: 1.2392 - accuracy: 0.5291 - val_loss: 1.1591 - val_accuracy: 0.5475\n",
      "Epoch 14/100\n",
      "225/225 [==============================] - 352s 2s/step - loss: 1.2310 - accuracy: 0.5340 - val_loss: 1.1272 - val_accuracy: 0.5616\n",
      "Epoch 15/100\n",
      "225/225 [==============================] - 348s 2s/step - loss: 1.2093 - accuracy: 0.5441 - val_loss: 1.1242 - val_accuracy: 0.5720\n",
      "Epoch 16/100\n",
      "225/225 [==============================] - 520s 2s/step - loss: 1.1977 - accuracy: 0.5506 - val_loss: 1.1191 - val_accuracy: 0.5699\n",
      "Epoch 17/100\n",
      "225/225 [==============================] - 587s 3s/step - loss: 1.1888 - accuracy: 0.5504 - val_loss: 1.1280 - val_accuracy: 0.5620\n",
      "Epoch 18/100\n",
      "225/225 [==============================] - 576s 3s/step - loss: 1.1724 - accuracy: 0.5585 - val_loss: 1.1037 - val_accuracy: 0.5747\n",
      "Epoch 19/100\n",
      "225/225 [==============================] - 1008s 4s/step - loss: 1.1674 - accuracy: 0.5590 - val_loss: 1.1022 - val_accuracy: 0.5740\n",
      "Epoch 20/100\n",
      "225/225 [==============================] - 418s 2s/step - loss: 1.1451 - accuracy: 0.5679 - val_loss: 1.1087 - val_accuracy: 0.5747\n",
      "Epoch 21/100\n",
      "225/225 [==============================] - 627s 3s/step - loss: 1.1463 - accuracy: 0.5679 - val_loss: 1.0842 - val_accuracy: 0.5893\n",
      "Epoch 22/100\n",
      "225/225 [==============================] - 629s 3s/step - loss: 1.1388 - accuracy: 0.5710 - val_loss: 1.0765 - val_accuracy: 0.5911\n",
      "Epoch 23/100\n",
      "225/225 [==============================] - 685s 3s/step - loss: 1.1255 - accuracy: 0.5760 - val_loss: 1.0762 - val_accuracy: 0.5853\n",
      "Epoch 24/100\n",
      "225/225 [==============================] - 676s 3s/step - loss: 1.1150 - accuracy: 0.5759 - val_loss: 1.0691 - val_accuracy: 0.5984\n",
      "Epoch 25/100\n",
      "225/225 [==============================] - 680s 3s/step - loss: 1.1100 - accuracy: 0.5808 - val_loss: 1.0642 - val_accuracy: 0.5957\n",
      "Epoch 26/100\n",
      "225/225 [==============================] - 701s 3s/step - loss: 1.1025 - accuracy: 0.5858 - val_loss: 1.0630 - val_accuracy: 0.5958\n",
      "Epoch 27/100\n",
      "225/225 [==============================] - 127874s 571s/step - loss: 1.0951 - accuracy: 0.5912 - val_loss: 1.0701 - val_accuracy: 0.5932\n",
      "Epoch 28/100\n",
      "225/225 [==============================] - 739s 3s/step - loss: 1.0932 - accuracy: 0.5900 - val_loss: 1.0538 - val_accuracy: 0.5985\n",
      "Epoch 29/100\n",
      "225/225 [==============================] - 605s 3s/step - loss: 1.0711 - accuracy: 0.5950 - val_loss: 1.0470 - val_accuracy: 0.6027\n",
      "Epoch 30/100\n",
      "225/225 [==============================] - 348s 2s/step - loss: 1.0714 - accuracy: 0.5974 - val_loss: 1.0442 - val_accuracy: 0.6006\n",
      "Epoch 31/100\n",
      "225/225 [==============================] - 377s 2s/step - loss: 1.0642 - accuracy: 0.5980 - val_loss: 1.0477 - val_accuracy: 0.6000\n",
      "Epoch 32/100\n",
      "225/225 [==============================] - 378s 2s/step - loss: 1.0594 - accuracy: 0.6041 - val_loss: 1.0497 - val_accuracy: 0.5997\n",
      "Epoch 33/100\n",
      "225/225 [==============================] - 396s 2s/step - loss: 1.0508 - accuracy: 0.6059 - val_loss: 1.0414 - val_accuracy: 0.6037\n",
      "Epoch 34/100\n",
      "225/225 [==============================] - 402s 2s/step - loss: 1.0379 - accuracy: 0.6112 - val_loss: 1.0496 - val_accuracy: 0.6031\n",
      "Epoch 35/100\n",
      "225/225 [==============================] - 393s 2s/step - loss: 1.0377 - accuracy: 0.6107 - val_loss: 1.0636 - val_accuracy: 0.5918\n",
      "Epoch 36/100\n",
      "225/225 [==============================] - 415s 2s/step - loss: 1.0251 - accuracy: 0.6194 - val_loss: 1.0445 - val_accuracy: 0.6069\n",
      "Epoch 37/100\n",
      "225/225 [==============================] - 373s 2s/step - loss: 1.0204 - accuracy: 0.6179 - val_loss: 1.0406 - val_accuracy: 0.6134\n",
      "Epoch 38/100\n",
      "225/225 [==============================] - 364s 2s/step - loss: 1.0140 - accuracy: 0.6186 - val_loss: 1.0334 - val_accuracy: 0.6105\n",
      "Epoch 39/100\n",
      "225/225 [==============================] - 368s 2s/step - loss: 1.0088 - accuracy: 0.6256 - val_loss: 1.0351 - val_accuracy: 0.6074\n",
      "Epoch 40/100\n",
      "225/225 [==============================] - 364s 2s/step - loss: 1.0006 - accuracy: 0.6252 - val_loss: 1.0348 - val_accuracy: 0.6134\n",
      "Epoch 41/100\n",
      "225/225 [==============================] - 377s 2s/step - loss: 0.9949 - accuracy: 0.6293 - val_loss: 1.0387 - val_accuracy: 0.6082\n",
      "Epoch 42/100\n",
      "225/225 [==============================] - 347s 2s/step - loss: 0.9832 - accuracy: 0.6307 - val_loss: 1.0255 - val_accuracy: 0.6110\n",
      "Epoch 43/100\n",
      "225/225 [==============================] - 365s 2s/step - loss: 0.9816 - accuracy: 0.6362 - val_loss: 1.0238 - val_accuracy: 0.6144\n",
      "Epoch 44/100\n",
      "225/225 [==============================] - 344s 2s/step - loss: 0.9784 - accuracy: 0.6384 - val_loss: 1.0184 - val_accuracy: 0.6173\n",
      "Epoch 45/100\n",
      "225/225 [==============================] - 355s 2s/step - loss: 0.9701 - accuracy: 0.6380 - val_loss: 1.0222 - val_accuracy: 0.6160\n",
      "Epoch 46/100\n",
      "225/225 [==============================] - 271919s 1214s/step - loss: 0.9758 - accuracy: 0.6369 - val_loss: 1.0262 - val_accuracy: 0.6163\n",
      "Epoch 47/100\n",
      "225/225 [==============================] - 673s 3s/step - loss: 0.9608 - accuracy: 0.6401 - val_loss: 1.0293 - val_accuracy: 0.6121\n",
      "Epoch 48/100\n",
      "225/225 [==============================] - 683s 3s/step - loss: 0.9467 - accuracy: 0.6494 - val_loss: 1.0218 - val_accuracy: 0.6180\n",
      "Epoch 49/100\n",
      "225/225 [==============================] - 543s 2s/step - loss: 0.9470 - accuracy: 0.6467 - val_loss: 1.0182 - val_accuracy: 0.6199\n",
      "Epoch 50/100\n",
      "225/225 [==============================] - 365s 2s/step - loss: 0.9409 - accuracy: 0.6502 - val_loss: 1.0163 - val_accuracy: 0.6226\n",
      "Epoch 51/100\n",
      "225/225 [==============================] - 364s 2s/step - loss: 0.9440 - accuracy: 0.6479 - val_loss: 1.0316 - val_accuracy: 0.6183\n",
      "Epoch 52/100\n",
      "225/225 [==============================] - 367s 2s/step - loss: 0.9394 - accuracy: 0.6522 - val_loss: 1.0178 - val_accuracy: 0.6174\n",
      "Epoch 53/100\n",
      "225/225 [==============================] - 359s 2s/step - loss: 0.9162 - accuracy: 0.6615 - val_loss: 1.0213 - val_accuracy: 0.6142\n",
      "Epoch 54/100\n",
      "225/225 [==============================] - 367s 2s/step - loss: 0.9268 - accuracy: 0.6548 - val_loss: 1.0155 - val_accuracy: 0.6219\n",
      "Epoch 55/100\n",
      "225/225 [==============================] - 358s 2s/step - loss: 0.9099 - accuracy: 0.6620 - val_loss: 1.0158 - val_accuracy: 0.6236\n",
      "Epoch 56/100\n",
      "225/225 [==============================] - 851s 4s/step - loss: 0.9124 - accuracy: 0.6645 - val_loss: 1.0101 - val_accuracy: 0.6254\n",
      "Epoch 57/100\n",
      "225/225 [==============================] - 657s 3s/step - loss: 0.9098 - accuracy: 0.6638 - val_loss: 1.0180 - val_accuracy: 0.6177\n",
      "Epoch 58/100\n",
      "225/225 [==============================] - 499s 2s/step - loss: 0.9054 - accuracy: 0.6670 - val_loss: 1.0075 - val_accuracy: 0.6219\n",
      "Epoch 59/100\n",
      "225/225 [==============================] - 343s 2s/step - loss: 0.8950 - accuracy: 0.6674 - val_loss: 1.0091 - val_accuracy: 0.6233\n",
      "Epoch 60/100\n",
      "225/225 [==============================] - 357s 2s/step - loss: 0.8930 - accuracy: 0.6699 - val_loss: 1.0044 - val_accuracy: 0.6218\n",
      "Epoch 61/100\n",
      "225/225 [==============================] - 357s 2s/step - loss: 0.8740 - accuracy: 0.6764 - val_loss: 1.0177 - val_accuracy: 0.6198\n",
      "Epoch 62/100\n",
      "225/225 [==============================] - 346s 2s/step - loss: 0.8831 - accuracy: 0.6771 - val_loss: 1.0143 - val_accuracy: 0.6272\n",
      "Epoch 63/100\n",
      "225/225 [==============================] - 357s 2s/step - loss: 0.8763 - accuracy: 0.6754 - val_loss: 1.0204 - val_accuracy: 0.6202\n",
      "Epoch 64/100\n",
      "225/225 [==============================] - 353s 2s/step - loss: 0.8636 - accuracy: 0.6846 - val_loss: 1.0112 - val_accuracy: 0.6248\n",
      "Epoch 65/100\n",
      "225/225 [==============================] - 349s 2s/step - loss: 0.8661 - accuracy: 0.6773 - val_loss: 1.0101 - val_accuracy: 0.6205\n",
      "Epoch 66/100\n",
      "225/225 [==============================] - 401s 2s/step - loss: 0.8586 - accuracy: 0.6827 - val_loss: 1.0107 - val_accuracy: 0.6230\n",
      "Epoch 67/100\n",
      "225/225 [==============================] - 686s 3s/step - loss: 0.8483 - accuracy: 0.6877 - val_loss: 1.0033 - val_accuracy: 0.6273\n",
      "Epoch 68/100\n",
      "225/225 [==============================] - 686s 3s/step - loss: 0.8498 - accuracy: 0.6865 - val_loss: 1.0115 - val_accuracy: 0.6213\n",
      "Epoch 69/100\n",
      "225/225 [==============================] - 695s 3s/step - loss: 0.8422 - accuracy: 0.6914 - val_loss: 1.0135 - val_accuracy: 0.6264\n",
      "Epoch 70/100\n",
      "225/225 [==============================] - 1833s 8s/step - loss: 0.8333 - accuracy: 0.6903 - val_loss: 1.0190 - val_accuracy: 0.6276\n",
      "Epoch 71/100\n",
      "225/225 [==============================] - 685s 3s/step - loss: 0.8307 - accuracy: 0.6962 - val_loss: 1.0217 - val_accuracy: 0.6240\n",
      "Epoch 72/100\n",
      "225/225 [==============================] - 686s 3s/step - loss: 0.8233 - accuracy: 0.6979 - val_loss: 1.0202 - val_accuracy: 0.6262\n",
      "Epoch 73/100\n",
      "225/225 [==============================] - 357s 2s/step - loss: 0.8299 - accuracy: 0.6979 - val_loss: 1.0140 - val_accuracy: 0.6250\n",
      "Epoch 74/100\n",
      "225/225 [==============================] - 347s 2s/step - loss: 0.8249 - accuracy: 0.6978 - val_loss: 1.0299 - val_accuracy: 0.6202\n",
      "Epoch 75/100\n",
      "225/225 [==============================] - 391s 2s/step - loss: 0.8184 - accuracy: 0.6992 - val_loss: 1.0231 - val_accuracy: 0.6271\n",
      "Epoch 76/100\n",
      "225/225 [==============================] - 348s 2s/step - loss: 0.8081 - accuracy: 0.7041 - val_loss: 1.0193 - val_accuracy: 0.6282\n",
      "Epoch 77/100\n",
      "225/225 [==============================] - 345s 2s/step - loss: 0.8088 - accuracy: 0.7074 - val_loss: 1.0153 - val_accuracy: 0.6268\n",
      "Epoch 78/100\n",
      "225/225 [==============================] - 343s 2s/step - loss: 0.8064 - accuracy: 0.7038 - val_loss: 1.0130 - val_accuracy: 0.6265\n",
      "Epoch 79/100\n",
      "225/225 [==============================] - 342s 2s/step - loss: 0.7947 - accuracy: 0.7115 - val_loss: 1.0192 - val_accuracy: 0.6323\n",
      "Epoch 80/100\n",
      "225/225 [==============================] - 342s 2s/step - loss: 0.7965 - accuracy: 0.7050 - val_loss: 1.0215 - val_accuracy: 0.6287\n",
      "Epoch 81/100\n",
      "225/225 [==============================] - 342s 2s/step - loss: 0.7815 - accuracy: 0.7149 - val_loss: 1.0107 - val_accuracy: 0.6279\n",
      "Epoch 82/100\n",
      "225/225 [==============================] - 342s 2s/step - loss: 0.7887 - accuracy: 0.7114 - val_loss: 1.0106 - val_accuracy: 0.6333\n",
      "Epoch 83/100\n",
      "225/225 [==============================] - 343s 2s/step - loss: 0.7809 - accuracy: 0.7168 - val_loss: 1.0278 - val_accuracy: 0.6294\n",
      "Epoch 84/100\n",
      "225/225 [==============================] - 344s 2s/step - loss: 0.7754 - accuracy: 0.7165 - val_loss: 1.0112 - val_accuracy: 0.6291\n",
      "Epoch 85/100\n",
      "225/225 [==============================] - 598s 3s/step - loss: 0.7710 - accuracy: 0.7195 - val_loss: 1.0191 - val_accuracy: 0.6297\n",
      "Epoch 86/100\n",
      "225/225 [==============================] - 683s 3s/step - loss: 0.7678 - accuracy: 0.7205 - val_loss: 1.0123 - val_accuracy: 0.6266\n",
      "Epoch 87/100\n",
      "225/225 [==============================] - 811s 4s/step - loss: 0.7697 - accuracy: 0.7198 - val_loss: 1.0105 - val_accuracy: 0.6314\n",
      "Epoch 88/100\n",
      "225/225 [==============================] - 687s 3s/step - loss: 0.7633 - accuracy: 0.7222 - val_loss: 1.0333 - val_accuracy: 0.6284\n",
      "Epoch 89/100\n",
      "225/225 [==============================] - 687s 3s/step - loss: 0.7635 - accuracy: 0.7214 - val_loss: 1.0216 - val_accuracy: 0.6310\n",
      "Epoch 90/100\n",
      "225/225 [==============================] - 689s 3s/step - loss: 0.7578 - accuracy: 0.7261 - val_loss: 1.0204 - val_accuracy: 0.6303\n",
      "Epoch 91/100\n",
      "225/225 [==============================] - 628s 3s/step - loss: 0.7519 - accuracy: 0.7276 - val_loss: 1.0194 - val_accuracy: 0.6289\n",
      "Epoch 92/100\n",
      "225/225 [==============================] - 332s 1s/step - loss: 0.7612 - accuracy: 0.7280 - val_loss: 1.0176 - val_accuracy: 0.6328\n",
      "Epoch 93/100\n",
      "225/225 [==============================] - 338s 2s/step - loss: 0.7391 - accuracy: 0.7304 - val_loss: 1.0210 - val_accuracy: 0.6312\n",
      "Epoch 94/100\n",
      "225/225 [==============================] - 339s 2s/step - loss: 0.7386 - accuracy: 0.7344 - val_loss: 1.0139 - val_accuracy: 0.6351\n",
      "Epoch 95/100\n",
      "225/225 [==============================] - 342s 2s/step - loss: 0.7428 - accuracy: 0.7305 - val_loss: 1.0142 - val_accuracy: 0.6307\n",
      "Epoch 96/100\n",
      "225/225 [==============================] - 342s 2s/step - loss: 0.7376 - accuracy: 0.7328 - val_loss: 1.0402 - val_accuracy: 0.6290\n",
      "Epoch 97/100\n",
      "225/225 [==============================] - 341s 2s/step - loss: 0.7249 - accuracy: 0.7387 - val_loss: 1.0145 - val_accuracy: 0.6323\n",
      "Epoch 98/100\n",
      "225/225 [==============================] - 343s 2s/step - loss: 0.7257 - accuracy: 0.7363 - val_loss: 1.0180 - val_accuracy: 0.6328\n",
      "Epoch 99/100\n",
      "225/225 [==============================] - 341s 2s/step - loss: 0.7181 - accuracy: 0.7410 - val_loss: 1.0319 - val_accuracy: 0.6311\n",
      "Epoch 100/100\n",
      "225/225 [==============================] - 342s 2s/step - loss: 0.7245 - accuracy: 0.7390 - val_loss: 1.0309 - val_accuracy: 0.6286\n"
     ]
    },
    {
     "data": {
      "text/plain": [
       "<keras.src.callbacks.History at 0x1cbc18b3fd0>"
      ]
     },
     "execution_count": 20,
     "metadata": {},
     "output_type": "execute_result"
    }
   ],
   "source": [
    "model.fit(x= x_train,y = y_train, batch_size = 128, epochs = 100, validation_data = (x_test,y_test)) "
   ]
  },
  {
   "cell_type": "code",
   "execution_count": 21,
   "id": "2d160eb2",
   "metadata": {},
   "outputs": [
    {
     "name": "stderr",
     "output_type": "stream",
     "text": [
      "C:\\Users\\bharg\\anaconda3\\Lib\\site-packages\\keras\\src\\engine\\training.py:3103: UserWarning: You are saving your model as an HDF5 file via `model.save()`. This file format is considered legacy. We recommend using instead the native Keras format, e.g. `model.save('my_model.keras')`.\n",
      "  saving_api.save_model(\n"
     ]
    }
   ],
   "source": [
    "model.save(\"facedl.h5\")"
   ]
  },
  {
   "cell_type": "code",
   "execution_count": 22,
   "id": "9ecfea19",
   "metadata": {},
   "outputs": [],
   "source": [
    "model_json = model.to_json()\n",
    "with open(\"facedl.json\",'w') as json_file:\n",
    "    json_file.write(model_json)\n",
    "model.save(\"facedl.h5\")"
   ]
  },
  {
   "cell_type": "code",
   "execution_count": 23,
   "id": "38515a67",
   "metadata": {},
   "outputs": [],
   "source": [
    "from keras.models import model_from_json"
   ]
  },
  {
   "cell_type": "code",
   "execution_count": 24,
   "id": "eb3c7419",
   "metadata": {},
   "outputs": [],
   "source": [
    "json_file = open(\"facedl.json\", \"r\")\n",
    "model_json = json_file.read()\n",
    "json_file.close()\n",
    "model = model_from_json(model_json)\n",
    "model.load_weights(\"facedl.h5\")"
   ]
  },
  {
   "cell_type": "code",
   "execution_count": 25,
   "id": "f85f5d73",
   "metadata": {},
   "outputs": [],
   "source": [
    "label = ['angry','disgust','fear','happy','neutral','sad','surprise']"
   ]
  },
  {
   "cell_type": "code",
   "execution_count": 26,
   "id": "240f0717",
   "metadata": {},
   "outputs": [],
   "source": [
    "def ef(image):\n",
    "    img = load_img(image,grayscale =  True )\n",
    "    feature = np.array(img)\n",
    "    #plt.figure(figsize= (5,5))\n",
    "    feature = feature.reshape(1,48,48,1)\n",
    "    return feature/255.0"
   ]
  },
  {
   "cell_type": "code",
   "execution_count": 27,
   "id": "536d9472",
   "metadata": {},
   "outputs": [],
   "source": [
    "import matplotlib.pyplot as plt\n",
    "%matplotlib inline"
   ]
  },
  {
   "cell_type": "code",
   "execution_count": 28,
   "id": "c8a929c8",
   "metadata": {},
   "outputs": [
    {
     "name": "stdout",
     "output_type": "stream",
     "text": [
      "original image is of disgust\n"
     ]
    },
    {
     "name": "stderr",
     "output_type": "stream",
     "text": [
      "C:\\Users\\bharg\\anaconda3\\Lib\\site-packages\\keras\\src\\utils\\image_utils.py:409: UserWarning: grayscale is deprecated. Please use color_mode = \"grayscale\"\n",
      "  warnings.warn(\n"
     ]
    },
    {
     "name": "stdout",
     "output_type": "stream",
     "text": [
      "1/1 [==============================] - 0s 399ms/step\n",
      "model prediction is  disgust\n"
     ]
    },
    {
     "data": {
      "text/plain": [
       "<matplotlib.image.AxesImage at 0x1cbc180bf50>"
      ]
     },
     "execution_count": 28,
     "metadata": {},
     "output_type": "execute_result"
    },
    {
     "data": {
      "image/png": "[encoded data removed]",
      "text/plain": [
       "<Figure size 640x480 with 1 Axes>"
      ]
     },
     "metadata": {},
     "output_type": "display_data"
    }
   ],
   "source": [
    "image = 'C:\\\\Users\\\\bharg\\\\Downloads\\\\face\\\\train\\\\disgust\\\\Training_2580532.jpg'\n",
    "print(\"original image is of disgust\")\n",
    "img = ef(image)\n",
    "pred = model.predict(img)\n",
    "pred_label = label[pred.argmax()]\n",
    "print(\"model prediction is \",pred_label)\n",
    "plt.imshow(img.reshape(48,48),cmap='gray')"
   ]
  },
  {
   "cell_type": "code",
   "execution_count": 29,
   "id": "3723fb1e",
   "metadata": {},
   "outputs": [
    {
     "name": "stdout",
     "output_type": "stream",
     "text": [
      "original image is of happy\n",
      "1/1 [==============================] - 0s 35ms/step\n",
      "model prediction is  happy\n"
     ]
    },
    {
     "data": {
      "text/plain": [
       "<matplotlib.image.AxesImage at 0x1cbdf74a7d0>"
      ]
     },
     "execution_count": 29,
     "metadata": {},
     "output_type": "execute_result"
    },
    {
     "data": {
      "image/png": "[encoded data removed]",
      "text/plain": [
       "<Figure size 640x480 with 1 Axes>"
      ]
     },
     "metadata": {},
     "output_type": "display_data"
    }
   ],
   "source": [
    "image = 'C:\\\\Users\\\\bharg\\\\Downloads\\\\face\\\\train\\\\happy\\\\Training_1206.jpg'\n",
    "print(\"original image is of happy\")\n",
    "img = ef(image)\n",
    "pred = model.predict(img)\n",
    "pred_label = label[pred.argmax()]\n",
    "print(\"model prediction is \",pred_label)\n",
    "plt.imshow(img.reshape(48,48),cmap='gray')"
   ]
  },
  {
   "cell_type": "code",
   "execution_count": 30,
   "id": "4daa5d2e",
   "metadata": {},
   "outputs": [
    {
     "name": "stdout",
     "output_type": "stream",
     "text": [
      "original image is of surprise\n",
      "1/1 [==============================] - 0s 44ms/step\n",
      "model prediction is  surprise\n"
     ]
    },
    {
     "data": {
      "text/plain": [
       "<matplotlib.image.AxesImage at 0x1cbdf844210>"
      ]
     },
     "execution_count": 30,
     "metadata": {},
     "output_type": "execute_result"
    },
    {
     "data": {
      "image/png": "[encoded data removed]",
      "text/plain": [
       "<Figure size 640x480 with 1 Axes>"
      ]
     },
     "metadata": {},
     "output_type": "display_data"
    }
   ],
   "source": [
    "image = 'C:\\\\Users\\\\bharg\\\\Downloads\\\\face\\\\train\\\\surprise\\\\Training_8796.jpg'\n",
    "print(\"original image is of surprise\")\n",
    "img = ef(image)\n",
    "pred = model.predict(img)\n",
    "pred_label = label[pred.argmax()]\n",
    "print(\"model prediction is \",pred_label)\n",
    "plt.imshow(img.reshape(48,48),cmap='gray')"
   ]
  },
  {
   "cell_type": "code",
   "execution_count": 31,
   "id": "c42dc950",
   "metadata": {},
   "outputs": [
    {
     "name": "stdout",
     "output_type": "stream",
     "text": [
      "original image is of angry\n",
      "1/1 [==============================] - 0s 30ms/step\n",
      "model prediction is  angry\n"
     ]
    },
    {
     "data": {
      "text/plain": [
       "<matplotlib.image.AxesImage at 0x1cbdf79c210>"
      ]
     },
     "execution_count": 31,
     "metadata": {},
     "output_type": "execute_result"
    },
    {
     "data": {
      "image/png": "[encoded data removed]",
      "text/plain": [
       "<Figure size 640x480 with 1 Axes>"
      ]
     },
     "metadata": {},
     "output_type": "display_data"
    }
   ],
   "source": [
    "image = 'C:\\\\Users\\\\bharg\\\\Downloads\\\\face\\\\train\\\\angry\\\\Training_3908.jpg'\n",
    "print(\"original image is of angry\")\n",
    "img = ef(image)\n",
    "pred = model.predict(img)\n",
    "pred_label = label[pred.argmax()]\n",
    "print(\"model prediction is \",pred_label)\n",
    "plt.imshow(img.reshape(48,48),cmap='gray')"
   ]
  },
  {
   "cell_type": "code",
   "execution_count": 32,
   "id": "64d919c2",
   "metadata": {},
   "outputs": [
    {
     "name": "stdout",
     "output_type": "stream",
     "text": [
      "original image is of neutral\n",
      "1/1 [==============================] - 0s 32ms/step\n",
      "model prediction is  neutral\n"
     ]
    },
    {
     "data": {
      "text/plain": [
       "<matplotlib.image.AxesImage at 0x1cbe10dcd90>"
      ]
     },
     "execution_count": 32,
     "metadata": {},
     "output_type": "execute_result"
    },
    {
     "data": {
      "image/png": "[encoded data removed]",
      "text/plain": [
       "<Figure size 640x480 with 1 Axes>"
      ]
     },
     "metadata": {},
     "output_type": "display_data"
    }
   ],
   "source": [
    "image = 'C:\\\\Users\\\\bharg\\\\Downloads\\\\face\\\\train\\\\neutral\\\\Training_65667.jpg'\n",
    "print(\"original image is of neutral\")\n",
    "img = ef(image)\n",
    "pred = model.predict(img)\n",
    "pred_label = label[pred.argmax()]\n",
    "print(\"model prediction is \",pred_label)\n",
    "plt.imshow(img.reshape(48,48),cmap='gray')"
   ]
  },
  {
   "cell_type": "code",
   "execution_count": 33,
   "id": "f281b11c",
   "metadata": {},
   "outputs": [
    {
     "data": {
      "image/png": "[encoded data removed]",
      "text/plain": [
       "<Figure size 640x480 with 6 Axes>"
      ]
     },
     "metadata": {},
     "output_type": "display_data"
    }
   ],
   "source": [
    "import cv2\n",
    "import numpy as np\n",
    "from matplotlib import pyplot as plt\n",
    "\n",
    "img = cv2.imread('C:\\\\Users\\\\bharg\\\\Downloads\\\\face\\\\train\\\\neutral\\\\Training_65667.jpg')\n",
    "img = cv2.cvtColor(img, cv2.COLOR_BGR2RGB)\n",
    "\n",
    "kernel = np.ones((5, 5), np.float32)/25\n",
    "dst = cv2.filter2D(img, -1, kernel)\n",
    "blur = cv2.blur(img, (5, 5))\n",
    "gblur = cv2.GaussianBlur(img, (5, 5), 0)\n",
    "median = cv2.medianBlur(img, 5)\n",
    "bilateralFilter = cv2.bilateralFilter(img, 9, 75, 75)\n",
    "\n",
    "titles = ['image', '2D Convolution', 'blur', 'GaussianBlur', 'median', 'bilateralFilter']\n",
    "images = [img, dst, blur, gblur, median, bilateralFilter]\n",
    "\n",
    "for i in range(6):\n",
    "    plt.subplot(2, 3, i+1), plt.imshow(images[i], 'gray')\n",
    "    plt.title(titles[i])\n",
    "    plt.xticks([]),plt.yticks([])\n",
    "\n",
    "plt.show()"
   ]
  },
  {
   "cell_type": "code",
   "execution_count": 34,
   "id": "b0f3dea3",
   "metadata": {},
   "outputs": [
    {
     "name": "stdout",
     "output_type": "stream",
     "text": [
      "225/225 [==============================] - 23s 101ms/step\n",
      "Confusion Matrix\n",
      "[[ 478    7   65   67  118  195   28]\n",
      " [  22   57    6    6    6   12    2]\n",
      " [ 103    3  334   50  153  265  116]\n",
      " [  42    1   20 1501   97   81   32]\n",
      " [  66    2   40   86  769  254   16]\n",
      " [ 103    2   87   76  239  716   24]\n",
      " [  21    1   29   54   40   29  657]]\n"
     ]
    }
   ],
   "source": [
    "from sklearn.metrics import confusion_matrix\n",
    "y_test_arg=np.argmax(y_test,axis=1)\n",
    "Y_pred = np.argmax(model.predict(x_test),axis=1)\n",
    "print('Confusion Matrix')\n",
    "print(confusion_matrix(y_test_arg, Y_pred))"
   ]
  },
  {
   "cell_type": "code",
   "execution_count": 35,
   "id": "c3dc4d5b",
   "metadata": {},
   "outputs": [
    {
     "name": "stdout",
     "output_type": "stream",
     "text": [
      "225/225 [==============================] - 22s 98ms/step\n",
      "Confusion matrix, without normalization\n",
      "[[ 478    7   65   67  118  195   28]\n",
      " [  22   57    6    6    6   12    2]\n",
      " [ 103    3  334   50  153  265  116]\n",
      " [  42    1   20 1501   97   81   32]\n",
      " [  66    2   40   86  769  254   16]\n",
      " [ 103    2   87   76  239  716   24]\n",
      " [  21    1   29   54   40   29  657]]\n"
     ]
    },
    {
     "data": {
      "image/png": "[encoded data removed]",
      "text/plain": [
       "<Figure size 640x480 with 2 Axes>"
      ]
     },
     "metadata": {},
     "output_type": "display_data"
    }
   ],
   "source": [
    "import numpy as np\n",
    "import matplotlib.pyplot as plt\n",
    "from sklearn.metrics import confusion_matrix\n",
    "from sklearn.utils.multiclass import unique_labels\n",
    "import itertools\n",
    "# Assuming you have the ground truth labels (y_test) and predicted labels (y_pred)\n",
    "y_test_arg = np.argmax(y_test, axis=1)\n",
    "y_pred = np.argmax(model.predict(x_test), axis=1)\n",
    "\n",
    "# Compute confusion matrix\n",
    "confusion_mtx = confusion_matrix(y_test_arg, y_pred)\n",
    "\n",
    "def plot_confusion_matrix(cm, classes, normalize=False, title='Confusion matrix', cmap=plt.cm.Blues):\n",
    "    \"\"\"\n",
    "    This function prints and plots the confusion matrix.\n",
    "    Normalization can be applied by setting `normalize=True`.\n",
    "    \"\"\"\n",
    "    if normalize:\n",
    "        cm = cm.astype('float') / cm.sum(axis=1)[:, np.newaxis]\n",
    "        print(\"Normalized confusion matrix\")\n",
    "    else:\n",
    "        print('Confusion matrix, without normalization')\n",
    "\n",
    "    print(cm)\n",
    "\n",
    "    plt.imshow(cm, interpolation='nearest', cmap=cmap)\n",
    "    plt.title(title)\n",
    "    plt.colorbar()\n",
    "\n",
    "    tick_marks = np.arange(len(classes))\n",
    "    plt.xticks(tick_marks, classes, rotation=45)\n",
    "    plt.yticks(tick_marks, classes)\n",
    "\n",
    "    fmt = '.2f' if normalize else 'd'\n",
    "    thresh = cm.max() / 2.\n",
    "    for i, j in itertools.product(range(cm.shape[0]), range(cm.shape[1])):\n",
    "        plt.text(j, i, format(cm[i, j], fmt),\n",
    "                 horizontalalignment=\"center\",\n",
    "                 color=\"white\" if cm[i, j] > thresh else \"black\")\n",
    "\n",
    "    plt.tight_layout()\n",
    "    plt.ylabel('True label')\n",
    "    plt.xlabel('Predicted label')\n",
    "\n",
    "# Plot non-normalized confusion matrix\n",
    "plot_confusion_matrix(confusion_mtx, classes=np.unique(y_test_arg), normalize=False)\n",
    "plt.show()\n"
   ]
  },
  {
   "cell_type": "code",
   "execution_count": 37,
   "id": "e23d5a8b",
   "metadata": {},
   "outputs": [],
   "source": [
    "#import matplotlib.pyplot as plt\n",
    "#plt.style.use('dark_background')\n",
    "\n",
    "#plt.figure(figsize=(20,10))\n",
    "#plt.subplot(1, 2, 1)\n",
    "#plt.suptitle('Optimizer : Adam', fontsize=10)\n",
    "#plt.ylabel('Loss', fontsize=16)\n",
    "#plt.plot(history.history['loss'], label='Training Loss')\n",
    "#plt.plot(history.history['val_loss'], label='Validation Loss')\n",
    "##plt.legend(loc='upper right')\n",
    "#plt.subplot(1, 2, 2)\n",
    "#plt.ylabel('Accuracy', fontsize=14)\n",
    "#plt.plot(history.history['accuracy'], label='Training Accuracy')\n",
    "#plt.plot(history.history['val_accuracy'], label='Validation Accuracy')\n",
    "#plt.legend(loc='lower right')\n",
    "#plt.show()"
   ]
  },
  {
   "cell_type": "code",
   "execution_count": null,
   "id": "b1858a6a",
   "metadata": {},
   "outputs": [],
   "source": []
  }
 ],
 "metadata": {
  "kernelspec": {
   "display_name": "Python 3 (ipykernel)",
   "language": "python",
   "name": "python3"
  },
  "language_info": {
   "codemirror_mode": {
    "name": "ipython",
    "version": 3
   },
   "file_extension": ".py",
   "mimetype": "text/x-python",
   "name": "python",
   "nbconvert_exporter": "python",
   "pygments_lexer": "ipython3",
   "version": "3.11.5"
  }
 },
 "nbformat": 4,
 "nbformat_minor": 5
}
